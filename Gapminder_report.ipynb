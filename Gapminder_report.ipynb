{
  "nbformat": 4,
  "nbformat_minor": 0,
  "metadata": {
    "colab": {
      "name": "Untitled7.ipynb",
      "provenance": [],
      "authorship_tag": "ABX9TyN6yDEHwOi7DGQLHVYOGSOH",
      "include_colab_link": true
    },
    "kernelspec": {
      "name": "python3",
      "display_name": "Python 3"
    },
    "language_info": {
      "name": "python"
    }
  },
  "cells": [
    {
      "cell_type": "markdown",
      "metadata": {
        "id": "view-in-github",
        "colab_type": "text"
      },
      "source": [
        "<a href=\"https://colab.research.google.com/github/hirosh-sekharan/SETn3270/blob/master/Gapminder_report.ipynb\" target=\"_parent\"><img src=\"https://colab.research.google.com/assets/colab-badge.svg\" alt=\"Open In Colab\"/></a>"
      ]
    },
    {
      "cell_type": "code",
      "metadata": {
        "id": "4oGxsG2uUr_W"
      },
      "source": [
        "#https://towardsdatascience.com/create-stunning-visualizations-with-altair-f9af7ad5e9b\n",
        "from vega_datasets import data\n",
        "import altair as alt\n",
        "import pandas as pd"
      ],
      "execution_count": 2,
      "outputs": []
    },
    {
      "cell_type": "code",
      "metadata": {
        "colab": {
          "base_uri": "https://localhost:8080/",
          "height": 224
        },
        "id": "rEboUZksUxcs",
        "outputId": "9d464d9a-f349-4369-94c0-7ec4e519005a"
      },
      "source": [
        "gm_data=data.gapminder()\n",
        "print(gm_data.shape)\n",
        "gm_data.head()"
      ],
      "execution_count": 9,
      "outputs": [
        {
          "output_type": "stream",
          "name": "stdout",
          "text": [
            "(693, 6)\n"
          ]
        },
        {
          "output_type": "execute_result",
          "data": {
            "text/html": [
              "<div>\n",
              "<style scoped>\n",
              "    .dataframe tbody tr th:only-of-type {\n",
              "        vertical-align: middle;\n",
              "    }\n",
              "\n",
              "    .dataframe tbody tr th {\n",
              "        vertical-align: top;\n",
              "    }\n",
              "\n",
              "    .dataframe thead th {\n",
              "        text-align: right;\n",
              "    }\n",
              "</style>\n",
              "<table border=\"1\" class=\"dataframe\">\n",
              "  <thead>\n",
              "    <tr style=\"text-align: right;\">\n",
              "      <th></th>\n",
              "      <th>year</th>\n",
              "      <th>country</th>\n",
              "      <th>cluster</th>\n",
              "      <th>pop</th>\n",
              "      <th>life_expect</th>\n",
              "      <th>fertility</th>\n",
              "    </tr>\n",
              "  </thead>\n",
              "  <tbody>\n",
              "    <tr>\n",
              "      <th>0</th>\n",
              "      <td>1955</td>\n",
              "      <td>Afghanistan</td>\n",
              "      <td>0</td>\n",
              "      <td>8891209</td>\n",
              "      <td>30.332</td>\n",
              "      <td>7.7</td>\n",
              "    </tr>\n",
              "    <tr>\n",
              "      <th>1</th>\n",
              "      <td>1960</td>\n",
              "      <td>Afghanistan</td>\n",
              "      <td>0</td>\n",
              "      <td>9829450</td>\n",
              "      <td>31.997</td>\n",
              "      <td>7.7</td>\n",
              "    </tr>\n",
              "    <tr>\n",
              "      <th>2</th>\n",
              "      <td>1965</td>\n",
              "      <td>Afghanistan</td>\n",
              "      <td>0</td>\n",
              "      <td>10997885</td>\n",
              "      <td>34.020</td>\n",
              "      <td>7.7</td>\n",
              "    </tr>\n",
              "    <tr>\n",
              "      <th>3</th>\n",
              "      <td>1970</td>\n",
              "      <td>Afghanistan</td>\n",
              "      <td>0</td>\n",
              "      <td>12430623</td>\n",
              "      <td>36.088</td>\n",
              "      <td>7.7</td>\n",
              "    </tr>\n",
              "    <tr>\n",
              "      <th>4</th>\n",
              "      <td>1975</td>\n",
              "      <td>Afghanistan</td>\n",
              "      <td>0</td>\n",
              "      <td>14132019</td>\n",
              "      <td>38.438</td>\n",
              "      <td>7.7</td>\n",
              "    </tr>\n",
              "  </tbody>\n",
              "</table>\n",
              "</div>"
            ],
            "text/plain": [
              "   year      country  cluster       pop  life_expect  fertility\n",
              "0  1955  Afghanistan        0   8891209       30.332        7.7\n",
              "1  1960  Afghanistan        0   9829450       31.997        7.7\n",
              "2  1965  Afghanistan        0  10997885       34.020        7.7\n",
              "3  1970  Afghanistan        0  12430623       36.088        7.7\n",
              "4  1975  Afghanistan        0  14132019       38.438        7.7"
            ]
          },
          "metadata": {},
          "execution_count": 9
        }
      ]
    },
    {
      "cell_type": "code",
      "metadata": {
        "colab": {
          "base_uri": "https://localhost:8080/",
          "height": 393
        },
        "id": "K4ZITaVEVMST",
        "outputId": "a89664ce-68a7-446b-cb42-b92021a53c74"
      },
      "source": [
        "select_year = alt.selection_single(\n",
        " name='Select', fields=['year'], init={'year': 1955},\n",
        " bind=alt.binding_range(min=1955, max=2005, step=10)\n",
        ")\n",
        "lst=['Afghanistan','India']\n",
        "gm_data_2005=gm_data[gm_data['country']. isin  (lst )]\n",
        "alt.Chart(gm_data_2005).mark_point(filled=True).encode( alt.X('life_expect:Q'),alt.Color('country'), alt.Y('fertility:Q'),\n",
        "tooltip=[alt.Tooltip('country'),alt.Tooltip('life_expect')]\n",
        ").add_selection(select_year).transform_filter(select_year).interactive()"
      ],
      "execution_count": 45,
      "outputs": [
        {
          "output_type": "execute_result",
          "data": {
            "text/plain": [
              "alt.Chart(...)"
            ],
            "text/html": [
              "\n",
              "<div id=\"altair-viz-7be55002c2db4478b1a8529c9ae614a5\"></div>\n",
              "<script type=\"text/javascript\">\n",
              "  (function(spec, embedOpt){\n",
              "    let outputDiv = document.currentScript.previousElementSibling;\n",
              "    if (outputDiv.id !== \"altair-viz-7be55002c2db4478b1a8529c9ae614a5\") {\n",
              "      outputDiv = document.getElementById(\"altair-viz-7be55002c2db4478b1a8529c9ae614a5\");\n",
              "    }\n",
              "    const paths = {\n",
              "      \"vega\": \"https://cdn.jsdelivr.net/npm//vega@5?noext\",\n",
              "      \"vega-lib\": \"https://cdn.jsdelivr.net/npm//vega-lib?noext\",\n",
              "      \"vega-lite\": \"https://cdn.jsdelivr.net/npm//vega-lite@4.8.1?noext\",\n",
              "      \"vega-embed\": \"https://cdn.jsdelivr.net/npm//vega-embed@6?noext\",\n",
              "    };\n",
              "\n",
              "    function loadScript(lib) {\n",
              "      return new Promise(function(resolve, reject) {\n",
              "        var s = document.createElement('script');\n",
              "        s.src = paths[lib];\n",
              "        s.async = true;\n",
              "        s.onload = () => resolve(paths[lib]);\n",
              "        s.onerror = () => reject(`Error loading script: ${paths[lib]}`);\n",
              "        document.getElementsByTagName(\"head\")[0].appendChild(s);\n",
              "      });\n",
              "    }\n",
              "\n",
              "    function showError(err) {\n",
              "      outputDiv.innerHTML = `<div class=\"error\" style=\"color:red;\">${err}</div>`;\n",
              "      throw err;\n",
              "    }\n",
              "\n",
              "    function displayChart(vegaEmbed) {\n",
              "      vegaEmbed(outputDiv, spec, embedOpt)\n",
              "        .catch(err => showError(`Javascript Error: ${err.message}<br>This usually means there's a typo in your chart specification. See the javascript console for the full traceback.`));\n",
              "    }\n",
              "\n",
              "    if(typeof define === \"function\" && define.amd) {\n",
              "      requirejs.config({paths});\n",
              "      require([\"vega-embed\"], displayChart, err => showError(`Error loading script: ${err.message}`));\n",
              "    } else if (typeof vegaEmbed === \"function\") {\n",
              "      displayChart(vegaEmbed);\n",
              "    } else {\n",
              "      loadScript(\"vega\")\n",
              "        .then(() => loadScript(\"vega-lite\"))\n",
              "        .then(() => loadScript(\"vega-embed\"))\n",
              "        .catch(showError)\n",
              "        .then(() => displayChart(vegaEmbed));\n",
              "    }\n",
              "  })({\"config\": {\"view\": {\"continuousWidth\": 400, \"continuousHeight\": 300}}, \"data\": {\"name\": \"data-2efe86d5dd23508c4a382f735d395288\"}, \"mark\": {\"type\": \"point\", \"filled\": true}, \"encoding\": {\"color\": {\"type\": \"nominal\", \"field\": \"country\"}, \"tooltip\": [{\"type\": \"nominal\", \"field\": \"country\"}, {\"type\": \"quantitative\", \"field\": \"life_expect\"}], \"x\": {\"type\": \"quantitative\", \"field\": \"life_expect\"}, \"y\": {\"type\": \"quantitative\", \"field\": \"fertility\"}}, \"selection\": {\"Select\": {\"type\": \"single\", \"fields\": [\"year\"], \"init\": {\"year\": 1955}, \"bind\": {\"input\": \"range\", \"max\": 2005, \"min\": 1955, \"step\": 10}}, \"selector013\": {\"type\": \"interval\", \"bind\": \"scales\", \"encodings\": [\"x\", \"y\"]}}, \"transform\": [{\"filter\": {\"selection\": \"Select\"}}], \"$schema\": \"https://vega.github.io/schema/vega-lite/v4.8.1.json\", \"datasets\": {\"data-2efe86d5dd23508c4a382f735d395288\": [{\"year\": 1955, \"country\": \"Afghanistan\", \"cluster\": 0, \"pop\": 8891209, \"life_expect\": 30.332, \"fertility\": 7.7}, {\"year\": 1960, \"country\": \"Afghanistan\", \"cluster\": 0, \"pop\": 9829450, \"life_expect\": 31.997, \"fertility\": 7.7}, {\"year\": 1965, \"country\": \"Afghanistan\", \"cluster\": 0, \"pop\": 10997885, \"life_expect\": 34.02, \"fertility\": 7.7}, {\"year\": 1970, \"country\": \"Afghanistan\", \"cluster\": 0, \"pop\": 12430623, \"life_expect\": 36.088, \"fertility\": 7.7}, {\"year\": 1975, \"country\": \"Afghanistan\", \"cluster\": 0, \"pop\": 14132019, \"life_expect\": 38.438, \"fertility\": 7.7}, {\"year\": 1980, \"country\": \"Afghanistan\", \"cluster\": 0, \"pop\": 15112149, \"life_expect\": 39.854, \"fertility\": 7.8}, {\"year\": 1985, \"country\": \"Afghanistan\", \"cluster\": 0, \"pop\": 13796928, \"life_expect\": 40.822, \"fertility\": 7.9}, {\"year\": 1990, \"country\": \"Afghanistan\", \"cluster\": 0, \"pop\": 14669339, \"life_expect\": 41.674, \"fertility\": 8.0}, {\"year\": 1995, \"country\": \"Afghanistan\", \"cluster\": 0, \"pop\": 20881480, \"life_expect\": 41.763, \"fertility\": 8.0}, {\"year\": 2000, \"country\": \"Afghanistan\", \"cluster\": 0, \"pop\": 23898198, \"life_expect\": 42.129, \"fertility\": 7.4792}, {\"year\": 2005, \"country\": \"Afghanistan\", \"cluster\": 0, \"pop\": 29928987, \"life_expect\": 43.828, \"fertility\": 7.0685}, {\"year\": 1955, \"country\": \"India\", \"cluster\": 0, \"pop\": 393000000, \"life_expect\": 40.249, \"fertility\": 5.8961}, {\"year\": 1960, \"country\": \"India\", \"cluster\": 0, \"pop\": 434000000, \"life_expect\": 43.605, \"fertility\": 5.8216}, {\"year\": 1965, \"country\": \"India\", \"cluster\": 0, \"pop\": 485000000, \"life_expect\": 47.193, \"fertility\": 5.6058}, {\"year\": 1970, \"country\": \"India\", \"cluster\": 0, \"pop\": 541000000, \"life_expect\": 50.651, \"fertility\": 5.264}, {\"year\": 1975, \"country\": \"India\", \"cluster\": 0, \"pop\": 607000000, \"life_expect\": 54.208, \"fertility\": 4.8888}, {\"year\": 1980, \"country\": \"India\", \"cluster\": 0, \"pop\": 679000000, \"life_expect\": 56.596, \"fertility\": 4.4975}, {\"year\": 1985, \"country\": \"India\", \"cluster\": 0, \"pop\": 755000000, \"life_expect\": 58.553, \"fertility\": 4.15}, {\"year\": 1990, \"country\": \"India\", \"cluster\": 0, \"pop\": 839000000, \"life_expect\": 60.223, \"fertility\": 3.8648}, {\"year\": 1995, \"country\": \"India\", \"cluster\": 0, \"pop\": 927000000, \"life_expect\": 61.765, \"fertility\": 3.4551}, {\"year\": 2000, \"country\": \"India\", \"cluster\": 0, \"pop\": 1007702000, \"life_expect\": 62.879, \"fertility\": 3.1132}, {\"year\": 2005, \"country\": \"India\", \"cluster\": 0, \"pop\": 1080264388, \"life_expect\": 64.698, \"fertility\": 2.8073}]}}, {\"mode\": \"vega-lite\"});\n",
              "</script>"
            ]
          },
          "metadata": {},
          "execution_count": 45
        }
      ]
    },
    {
      "cell_type": "code",
      "metadata": {
        "colab": {
          "base_uri": "https://localhost:8080/",
          "height": 368
        },
        "id": "TJDAtSQrWTVZ",
        "outputId": "46f9b8d0-f40b-4bc7-dd4b-fae2e33fb377"
      },
      "source": [
        "gm_data_2005=gm_data[gm_data['country']=='India']\n",
        "alt.Chart(gm_data_2005).mark_point().encode( alt.X('life_expect'), alt.Y('pop'))"
      ],
      "execution_count": 15,
      "outputs": [
        {
          "output_type": "execute_result",
          "data": {
            "text/plain": [
              "alt.Chart(...)"
            ],
            "text/html": [
              "\n",
              "<div id=\"altair-viz-647264a2e82c4c23ac9282e5512dc354\"></div>\n",
              "<script type=\"text/javascript\">\n",
              "  (function(spec, embedOpt){\n",
              "    let outputDiv = document.currentScript.previousElementSibling;\n",
              "    if (outputDiv.id !== \"altair-viz-647264a2e82c4c23ac9282e5512dc354\") {\n",
              "      outputDiv = document.getElementById(\"altair-viz-647264a2e82c4c23ac9282e5512dc354\");\n",
              "    }\n",
              "    const paths = {\n",
              "      \"vega\": \"https://cdn.jsdelivr.net/npm//vega@5?noext\",\n",
              "      \"vega-lib\": \"https://cdn.jsdelivr.net/npm//vega-lib?noext\",\n",
              "      \"vega-lite\": \"https://cdn.jsdelivr.net/npm//vega-lite@4.8.1?noext\",\n",
              "      \"vega-embed\": \"https://cdn.jsdelivr.net/npm//vega-embed@6?noext\",\n",
              "    };\n",
              "\n",
              "    function loadScript(lib) {\n",
              "      return new Promise(function(resolve, reject) {\n",
              "        var s = document.createElement('script');\n",
              "        s.src = paths[lib];\n",
              "        s.async = true;\n",
              "        s.onload = () => resolve(paths[lib]);\n",
              "        s.onerror = () => reject(`Error loading script: ${paths[lib]}`);\n",
              "        document.getElementsByTagName(\"head\")[0].appendChild(s);\n",
              "      });\n",
              "    }\n",
              "\n",
              "    function showError(err) {\n",
              "      outputDiv.innerHTML = `<div class=\"error\" style=\"color:red;\">${err}</div>`;\n",
              "      throw err;\n",
              "    }\n",
              "\n",
              "    function displayChart(vegaEmbed) {\n",
              "      vegaEmbed(outputDiv, spec, embedOpt)\n",
              "        .catch(err => showError(`Javascript Error: ${err.message}<br>This usually means there's a typo in your chart specification. See the javascript console for the full traceback.`));\n",
              "    }\n",
              "\n",
              "    if(typeof define === \"function\" && define.amd) {\n",
              "      requirejs.config({paths});\n",
              "      require([\"vega-embed\"], displayChart, err => showError(`Error loading script: ${err.message}`));\n",
              "    } else if (typeof vegaEmbed === \"function\") {\n",
              "      displayChart(vegaEmbed);\n",
              "    } else {\n",
              "      loadScript(\"vega\")\n",
              "        .then(() => loadScript(\"vega-lite\"))\n",
              "        .then(() => loadScript(\"vega-embed\"))\n",
              "        .catch(showError)\n",
              "        .then(() => displayChart(vegaEmbed));\n",
              "    }\n",
              "  })({\"config\": {\"view\": {\"continuousWidth\": 400, \"continuousHeight\": 300}}, \"data\": {\"name\": \"data-b3b19feb74daff1b6519ffdda6731053\"}, \"mark\": \"point\", \"encoding\": {\"x\": {\"type\": \"quantitative\", \"field\": \"life_expect\"}, \"y\": {\"type\": \"quantitative\", \"field\": \"pop\"}}, \"$schema\": \"https://vega.github.io/schema/vega-lite/v4.8.1.json\", \"datasets\": {\"data-b3b19feb74daff1b6519ffdda6731053\": [{\"year\": 1955, \"country\": \"India\", \"cluster\": 0, \"pop\": 393000000, \"life_expect\": 40.249, \"fertility\": 5.8961}, {\"year\": 1960, \"country\": \"India\", \"cluster\": 0, \"pop\": 434000000, \"life_expect\": 43.605, \"fertility\": 5.8216}, {\"year\": 1965, \"country\": \"India\", \"cluster\": 0, \"pop\": 485000000, \"life_expect\": 47.193, \"fertility\": 5.6058}, {\"year\": 1970, \"country\": \"India\", \"cluster\": 0, \"pop\": 541000000, \"life_expect\": 50.651, \"fertility\": 5.264}, {\"year\": 1975, \"country\": \"India\", \"cluster\": 0, \"pop\": 607000000, \"life_expect\": 54.208, \"fertility\": 4.8888}, {\"year\": 1980, \"country\": \"India\", \"cluster\": 0, \"pop\": 679000000, \"life_expect\": 56.596, \"fertility\": 4.4975}, {\"year\": 1985, \"country\": \"India\", \"cluster\": 0, \"pop\": 755000000, \"life_expect\": 58.553, \"fertility\": 4.15}, {\"year\": 1990, \"country\": \"India\", \"cluster\": 0, \"pop\": 839000000, \"life_expect\": 60.223, \"fertility\": 3.8648}, {\"year\": 1995, \"country\": \"India\", \"cluster\": 0, \"pop\": 927000000, \"life_expect\": 61.765, \"fertility\": 3.4551}, {\"year\": 2000, \"country\": \"India\", \"cluster\": 0, \"pop\": 1007702000, \"life_expect\": 62.879, \"fertility\": 3.1132}, {\"year\": 2005, \"country\": \"India\", \"cluster\": 0, \"pop\": 1080264388, \"life_expect\": 64.698, \"fertility\": 2.8073}]}}, {\"mode\": \"vega-lite\"});\n",
              "</script>"
            ]
          },
          "metadata": {},
          "execution_count": 15
        }
      ]
    }
  ]
}